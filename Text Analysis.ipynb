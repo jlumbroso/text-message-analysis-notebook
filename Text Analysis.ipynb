{
 "cells": [
  {
   "cell_type": "markdown",
   "metadata": {},
   "source": [
    "# Personal Text Analysis with PhoneView, Python and `pandas`\n",
    "\n"
   ]
  },
  {
   "cell_type": "markdown",
   "metadata": {},
   "source": [
    "## Preliminary"
   ]
  },
  {
   "cell_type": "code",
   "execution_count": 1,
   "metadata": {},
   "outputs": [],
   "source": [
    "# Let's first import the phoneview_helper module\n",
    "# (because it is not installed, but just a floating file in this folder\n",
    "# we may need to help Python find it, by adding the local directory to\n",
    "# the PYTHONPATH)\n",
    "\n",
    "import os, sys\n",
    "sys.path.append(os.path.abspath(\"./\"))\n",
    "\n",
    "import phoneview_helper as pvh"
   ]
  },
  {
   "cell_type": "code",
   "execution_count": 2,
   "metadata": {},
   "outputs": [],
   "source": [
    "# Now let's import pandas, with which we will do the data analysis and plotting\n",
    "import pandas as pd"
   ]
  },
  {
   "cell_type": "markdown",
   "metadata": {},
   "source": [
    "## Custom settings"
   ]
  },
  {
   "cell_type": "code",
   "execution_count": 3,
   "metadata": {},
   "outputs": [],
   "source": [
    "OUTPUT_CAPTION = \"example\"\n",
    "\n",
    "COLOR_SENT = (0.427, 0.694, 0.329)               # beautiful green\n",
    "COLOR_RECEIVED = (0.557, 0.165, 1.0)             # royal purple\n",
    "CUSTOM_COLORS=[COLOR_RECEIVED, COLOR_SENT]"
   ]
  },
  {
   "cell_type": "markdown",
   "metadata": {},
   "source": [
    "## Importing the text message data\n",
    "First, you must export the text messages from your phone to a CSV file. [Instructions on how to do this with PhoneView are available on the repository.](https://github.com/jlumbroso/text-message-analysis-notebook/blob/master/docs/PhoneView.md) Once this is done, you can import the text messages in this notebook using the `phoneview_helper` module you just imported above."
   ]
  },
  {
   "cell_type": "code",
   "execution_count": 4,
   "metadata": {},
   "outputs": [
    {
     "data": {
      "text/html": [
       "<div>\n",
       "<style scoped>\n",
       "    .dataframe tbody tr th:only-of-type {\n",
       "        vertical-align: middle;\n",
       "    }\n",
       "\n",
       "    .dataframe tbody tr th {\n",
       "        vertical-align: top;\n",
       "    }\n",
       "\n",
       "    .dataframe thead th {\n",
       "        text-align: right;\n",
       "    }\n",
       "</style>\n",
       "<table border=\"1\" class=\"dataframe\">\n",
       "  <thead>\n",
       "    <tr style=\"text-align: right;\">\n",
       "      <th></th>\n",
       "      <th>inbound</th>\n",
       "      <th>length</th>\n",
       "      <th>content</th>\n",
       "    </tr>\n",
       "    <tr>\n",
       "      <th>timestamp</th>\n",
       "      <th></th>\n",
       "      <th></th>\n",
       "      <th></th>\n",
       "    </tr>\n",
       "  </thead>\n",
       "  <tbody>\n",
       "    <tr>\n",
       "      <th>2019-06-23 11:49:49</th>\n",
       "      <td>True</td>\n",
       "      <td>59</td>\n",
       "      <td>They know you are coming and will, i imagine, ...</td>\n",
       "    </tr>\n",
       "    <tr>\n",
       "      <th>2019-06-23 11:50:21</th>\n",
       "      <td>False</td>\n",
       "      <td>12</td>\n",
       "      <td>OK, perfect.</td>\n",
       "    </tr>\n",
       "    <tr>\n",
       "      <th>2019-06-23 12:04:35</th>\n",
       "      <td>False</td>\n",
       "      <td>13</td>\n",
       "      <td>Finally here!</td>\n",
       "    </tr>\n",
       "  </tbody>\n",
       "</table>\n",
       "</div>"
      ],
      "text/plain": [
       "                     inbound  length  \\\n",
       "timestamp                              \n",
       "2019-06-23 11:49:49     True      59   \n",
       "2019-06-23 11:50:21    False      12   \n",
       "2019-06-23 12:04:35    False      13   \n",
       "\n",
       "                                                               content  \n",
       "timestamp                                                               \n",
       "2019-06-23 11:49:49  They know you are coming and will, i imagine, ...  \n",
       "2019-06-23 11:50:21                                       OK, perfect.  \n",
       "2019-06-23 12:04:35                                      Finally here!  "
      ]
     },
     "execution_count": 4,
     "metadata": {},
     "output_type": "execute_result"
    }
   ],
   "source": [
    "df = pvh.load_csv(filepath=\"text_messages.csv\", keep_type=False)\n",
    "df.tail(3) # let's take a look at the last three rows"
   ]
  },
  {
   "cell_type": "markdown",
   "metadata": {},
   "source": [
    "This dataset is provided as a `pandas.DataFrame` object. You can read about [the `DataFrame` type](https://pandas.pydata.org/pandas-docs/stable/user_guide/dsintro.html#dataframe), or [a short (but still overwhelming!) intro to `pandas`](https://pandas.pydata.org/pandas-docs/stable/user_guide/10min.html).\n",
    "\n",
    "The `phoneview_helper.load_csv()` method has a few parameters you may find useful:\n",
    "\n",
    "- The `filepath` parameter is the name of the CSV file that was exported from PhoneView.\n",
    "- The `phone_number` parameter can allow you to filter on a specific phone number, if the dataset exported from PhoneView contains conversations with several other recipients.\n",
    "- The `keep_type` parameter determines whether (if available) to keep the type of text message, among `SMS`, `iMessage` and `WhatsApp`.\n",
    "- The `keep_other_number` parameter determines whether to keep the number that of the other sender/recipient."
   ]
  },
  {
   "cell_type": "markdown",
   "metadata": {},
   "source": [
    "## Plots"
   ]
  },
  {
   "cell_type": "code",
   "execution_count": 6,
   "metadata": {},
   "outputs": [
    {
     "data": {
      "image/png": "[encoded data removed]",
      "text/plain": [
       "<Figure size 864x360 with 1 Axes>"
      ]
     },
     "metadata": {
      "needs_background": "light"
     },
     "output_type": "display_data"
    }
   ],
   "source": [
    "fig = pvh.plot_texts(df, absolute=False, count_or_volume=pvh.PlotStyle.VOLUME, colors=CUSTOM_COLORS)\n",
    "fig.savefig(\"{}_relative_text_character_count.pdf\".format(OUTPUT_CAPTION))"
   ]
  },
  {
   "cell_type": "code",
   "execution_count": 7,
   "metadata": {},
   "outputs": [
    {
     "data": {
      "image/png": "[encoded data removed]",
      "text/plain": [
       "<Figure size 864x360 with 1 Axes>"
      ]
     },
     "metadata": {
      "needs_background": "light"
     },
     "output_type": "display_data"
    }
   ],
   "source": [
    "fig = pvh.plot_texts(df, absolute=True, count_or_volume=pvh.PlotStyle.VOLUME, colors=CUSTOM_COLORS)\n",
    "fig.savefig(\"{}_absolute_text_character_count.pdf\".format(OUTPUT_CAPTION))"
   ]
  },
  {
   "cell_type": "code",
   "execution_count": null,
   "metadata": {},
   "outputs": [],
   "source": []
  }
 ],
 "metadata": {
  "kernelspec": {
   "display_name": "Python 3",
   "language": "python",
   "name": "python3"
  },
  "language_info": {
   "codemirror_mode": {
    "name": "ipython",
    "version": 3
   },
   "file_extension": ".py",
   "mimetype": "text/x-python",
   "name": "python",
   "nbconvert_exporter": "python",
   "pygments_lexer": "ipython3",
   "version": "3.8.2"
  }
 },
 "nbformat": 4,
 "nbformat_minor": 2
}